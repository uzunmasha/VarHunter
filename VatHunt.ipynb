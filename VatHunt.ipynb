{
 "cells": [
  {
   "cell_type": "code",
   "execution_count": 19,
   "metadata": {},
   "outputs": [],
   "source": [
    "from Bio import AlignIO\n",
    "import os\n",
    "import multiprocessing\n",
    "import pandas as pd\n",
    "import matplotlib.pyplot as plt\n",
    "import numpy as np\n",
    "from scipy.optimize import minimize\n",
    "from scipy.interpolate import interp1d\n",
    "from scipy.optimize import differential_evolution"
   ]
  },
  {
   "cell_type": "markdown",
   "metadata": {},
   "source": [
    "Экстракция данных из файла с геномами и создание датафрейма"
   ]
  },
  {
   "cell_type": "code",
   "execution_count": 2,
   "metadata": {},
   "outputs": [],
   "source": [
    "def process_info_files(genomes_csv, lst_info_file):\n",
    "    \"\"\"\n",
    "    Process information files to extract relevant data for further analysis.\n",
    "\n",
    "    Args:\n",
    "        genomes_csv (str): Path to the CSV file containing genome information.\n",
    "        lst_info_file (str): Path to the LSTINFO file containing additional information.\n",
    "\n",
    "    Returns:\n",
    "        pandas.DataFrame: Processed DataFrame containing necessary information.\n",
    "    \"\"\"\n",
    "    genome_names = pd.read_csv(genomes_csv, sep='\\t', header=None).rename(columns={0:'GCF', 1:'species', 2:'strain'})\n",
    "    genome_names['strain'] = genome_names['strain'].str[len('strain='):]\n",
    "    genome_names['strain'] = genome_names['strain'].fillna(0)\n",
    "\n",
    "    lst_info = pd.read_csv(lst_info_file, sep='\\t')\n",
    "    lst_info['GCF'] = lst_info['orig_name'].str.extract(r'(GCF\\_\\d{9}\\.\\d{1})', expand=True)\n",
    "\n",
    "    data_1 = lst_info[['gembase_name', 'GCF']]\n",
    "    data_2 = pd.merge(data_1, genome_names, on='GCF')\n",
    "\n",
    "    return data_2"
   ]
  },
  {
   "cell_type": "markdown",
   "metadata": {},
   "source": [
    "Создаем датафрейм с последовательностями генов."
   ]
  },
  {
   "cell_type": "code",
   "execution_count": 3,
   "metadata": {},
   "outputs": [],
   "source": [
    "def convert_fasta_to_dataframe(file_name):\n",
    "    \"\"\"\n",
    "    Convert a FASTA file to a pandas DataFrame.\n",
    "\n",
    "    Args:\n",
    "        file_name (str): Path to the input FASTA file.\n",
    "\n",
    "    Returns:\n",
    "        pandas.DataFrame: DataFrame containing gene sequences and related information.\n",
    "    \"\"\"\n",
    "    dic = {}\n",
    "    cur_scaf = ''\n",
    "    cur_seq = []\n",
    "\n",
    "    for line in open(file_name):\n",
    "        if line.startswith(\">\") and cur_scaf == '':\n",
    "            cur_scaf = line.split(' ')[0][1:]\n",
    "        elif line.startswith(\">\") and cur_scaf != '':\n",
    "            dic[cur_scaf] = ''.join(cur_seq)\n",
    "            cur_scaf = line.split(' ')[0][1:]\n",
    "            cur_seq = []\n",
    "        else:\n",
    "            cur_seq.append(line.rstrip())\n",
    "\n",
    "    dic[cur_scaf] = ''.join(cur_seq)\n",
    "\n",
    "    names = dic.keys()\n",
    "    seqs = dic.values()\n",
    "\n",
    "    genes_dict = {'name': names, 'gene': seqs}\n",
    "    genes_df = pd.DataFrame.from_dict(genes_dict)\n",
    "    genes_df['gembase_name'] = genes_df['name'].str.extract(r'(STRP\\.0423\\.\\d{5})', expand=True)\n",
    "\n",
    "    return genes_df\n"
   ]
  },
  {
   "cell_type": "markdown",
   "metadata": {},
   "source": [
    "Смердживаем два датафрейма с предыдущих шагов"
   ]
  },
  {
   "cell_type": "code",
   "execution_count": null,
   "metadata": {},
   "outputs": [],
   "source": [
    "def process_dataframes(genes_df, data_2):\n",
    "    \"\"\"\n",
    "    Process DataFrames containing gene sequences and additional information.\n",
    "\n",
    "    Args:\n",
    "        genes_df (pandas.DataFrame): DataFrame containing gene sequences.\n",
    "        data_2 (pandas.DataFrame): DataFrame containing additional information.\n",
    "\n",
    "    Returns:\n",
    "        pandas.DataFrame: Processed DataFrame with merged data.\n",
    "    \"\"\"\n",
    "    input_table = pd.merge(genes_df, data_2, on='gembase_name')\n",
    "    input_table = input_table[['name', 'GCF', 'species', 'strain', 'gene']]\n",
    "    input_table = input_table[~input_table['species'].str.contains(' sp.')]\n",
    "\n",
    "    return input_table"
   ]
  },
  {
   "cell_type": "markdown",
   "metadata": {},
   "source": [
    "Поиск мисмэтчей в попарных выравниваниях."
   ]
  },
  {
   "cell_type": "code",
   "execution_count": 4,
   "metadata": {},
   "outputs": [],
   "source": [
    "def find_mismatches(output_folder):\n",
    "    mismatches_data = []\n",
    "\n",
    "    # Проходим по всем файлам в папке output_folder\n",
    "    for filename in os.listdir(output_folder):\n",
    "        if filename.endswith('.fas'):\n",
    "            aligned_file = os.path.join(output_folder, filename)\n",
    "            \n",
    "            # Открываем файл с выравниванием\n",
    "            alignment = AlignIO.read(aligned_file, 'fasta')\n",
    "            \n",
    "            # Получаем длину выравнивания\n",
    "            alignment_length = alignment.get_alignment_length()\n",
    "\n",
    "            # Разделяем длину на 20 сегментов\n",
    "            segment_length = alignment_length // 20\n",
    "\n",
    "            # Проходим по выравниванию с окном длиной segment_length\n",
    "            for i in range(0, alignment_length, segment_length):\n",
    "                # Инициализируем счетчик мисматчей для текущего сегмента\n",
    "                mismatch_count = 0\n",
    "\n",
    "                # Проходим по каждой позиции в сегменте и сравниваем символы в выравниваниях\n",
    "                for j in range(segment_length):\n",
    "                    # Проверяем, что индексы не выходят за пределы длины выравнивания\n",
    "                    if i + j < alignment_length:\n",
    "                        # Получаем символы из каждого выравнивания\n",
    "                        symbol1 = alignment[0, i + j]\n",
    "                        symbol2 = alignment[1, i + j]\n",
    "                        \n",
    "                        # Если символы не совпадают, увеличиваем счетчик мисматчей\n",
    "                        if symbol1 != symbol2:\n",
    "                            mismatch_count += 1\n",
    "                \n",
    "                # Вычисляем количество мисмэтчей в текущем сегменте, поделенное на длину сегмента\n",
    "                mismatch_ratio = mismatch_count / segment_length * 100\n",
    "\n",
    "                # Добавляем данные о мисматчах для текущего сегмента в список\n",
    "                mismatches_data.append({'File': filename,\n",
    "                                        'Segment': i // segment_length + 1,\n",
    "                                        'Mismatch_Count': mismatch_ratio})\n",
    "    \n",
    "    # Создаем DataFrame из списка словарей\n",
    "    df = pd.DataFrame(mismatches_data)\n",
    "    \n",
    "    # Переворачиваем таблицу так, чтобы сегменты были столбцами\n",
    "    df = df.pivot(index='File', columns='Segment', values='Mismatch_Count')\n",
    "    \n",
    "    return df"
   ]
  },
  {
   "cell_type": "markdown",
   "metadata": {},
   "source": [
    "Создаем отдельную папку с парами генов по каждому условию. "
   ]
  },
  {
   "cell_type": "code",
   "execution_count": 5,
   "metadata": {},
   "outputs": [],
   "source": [
    "def create_gene_pairs_folders(condition_rows, selection_condition):\n",
    "    \"\"\"\n",
    "    Create folders and save gene pairs based on specified conditions.\n",
    "\n",
    "    Args:\n",
    "        condition_rows (pandas.DataFrame): DataFrame containing gene pairs.\n",
    "        selection_condition (str): Selection condition for filtering gene pairs.\n",
    "    \"\"\"\n",
    "    # Создаем папку для сохранения пар\n",
    "    output_folder = f\"{selection_condition.replace(' ', '_')}_pairs\"\n",
    "    os.makedirs(output_folder, exist_ok=True)\n",
    "\n",
    "    # Получаем количество строк в DataFrame\n",
    "    num_rows = len(condition_rows)\n",
    "\n",
    "    # Проходим по каждой строке в DataFrame\n",
    "    for i in range(num_rows):\n",
    "        for j in range(i + 1, num_rows):\n",
    "            # Получаем значения из пары\n",
    "            name1, name2 = condition_rows.iloc[i]['name'], condition_rows.iloc[j]['name']\n",
    "            gcf1, gcf2 = condition_rows.iloc[i]['GCF'], condition_rows.iloc[j]['GCF']\n",
    "\n",
    "            # Проверяем, что значения из пары не совпадают и GCF у пары разные\n",
    "            if name1 != name2 and gcf1 != gcf2:\n",
    "                # Форматируем текст и создаем имя файла\n",
    "                row1 = condition_rows.iloc[i]\n",
    "                row2 = condition_rows.iloc[j]\n",
    "                \n",
    "                # Заменяем пробелы на нижнее подчеркивание\n",
    "                species1 = row1['species'].replace(' ', '_')\n",
    "                species2 = row2['species'].replace(' ', '_')\n",
    "\n",
    "                formatted_text = f\">{row1['name']}_{row1['GCF']}_{species1}_{row1['strain']}\\n{row1['gene']}\\n\"\n",
    "                formatted_text += f\">{row2['name']}_{row2['GCF']}_{species2}_{row2['strain']}\\n{row2['gene']}\\n\"\n",
    "                \n",
    "                # Создаем имя файла\n",
    "                filename = f\"{output_folder}/{row1['name']}-{row2['name']}.fasta\"\n",
    "\n",
    "                # Сохраняем пару в файл\n",
    "                with open(filename, 'w') as file:\n",
    "                    file.write(formatted_text)"
   ]
  },
  {
   "cell_type": "markdown",
   "metadata": {},
   "source": [
    "Создаем новую папку, куда записываем попарные выравнивания."
   ]
  },
  {
   "cell_type": "code",
   "execution_count": 6,
   "metadata": {},
   "outputs": [],
   "source": [
    "def align_sequences(input_folder, output_folder):\n",
    "    \"\"\"\n",
    "    Align gene sequences using the PRANK algorithm with codon-based alignment.\n",
    "\n",
    "    Args:\n",
    "        input_folder (str): Path to the folder containing input FASTA files.\n",
    "        output_folder (str): Path to the folder for saving aligned sequences.\n",
    "    \"\"\"\n",
    "    # Проверяем, существует ли уже папка с выравниваниями\n",
    "    if os.path.exists(output_folder):\n",
    "        print(f\"Folder {output_folder} already exists. Skipping alignment.\")\n",
    "        # Если папка существует, переходим сразу к поиску мисмэтчей\n",
    "        find_mismatches(output_folder)\n",
    "        return\n",
    "\n",
    "    os.makedirs(output_folder, exist_ok=True)\n",
    "    \n",
    "    # Определяем количество доступных процессоров\n",
    "    num_processors = multiprocessing.cpu_count()\n",
    "    \n",
    "    # Создаем пул процессов\n",
    "    pool = multiprocessing.Pool(processes=num_processors)\n",
    "    \n",
    "    # Получаем список файлов в папке\n",
    "    files = [os.path.join(input_folder, f) for f in os.listdir(input_folder) if f.endswith('.fasta')]\n",
    "    \n",
    "    # Запускаем выравнивание для каждого файла в пуле процессов\n",
    "    for filename in files:\n",
    "        input_path = filename\n",
    "        output_path = os.path.join(output_folder, f\"aligned_{os.path.basename(filename)}\")\n",
    "\n",
    "        command = f\"prank -d={input_path} -o={output_path} -codon\"\n",
    "        os.system(command)\n",
    "    \n",
    "    # Завершаем работу пула процессов\n",
    "    pool.close()\n",
    "    pool.join()\n",
    "    \n",
    "    # После каждого выравнивания вызываем функцию для анализа мисмэтчей\n",
    "    find_mismatches(output_folder)"
   ]
  },
  {
   "cell_type": "markdown",
   "metadata": {},
   "source": [
    "Строим графики с мисмэтчами"
   ]
  },
  {
   "cell_type": "code",
   "execution_count": 2,
   "metadata": {},
   "outputs": [],
   "source": [
    "def mismatch_imaging(file_name:str):\n",
    "    df = pd.read_csv(file_name)\n",
    "    df.name = file_name[:-len('_mismatches.csv')]\n",
    "\n",
    "    condition = f'{df.name}'\n",
    "    folder_name = f'{condition}_plots'\n",
    "    os.makedirs(folder_name, exist_ok=True)\n",
    "\n",
    "    # Найдем максимальное значение на всем диапазоне графиков для установки общего предела оси y\n",
    "    max_value = df.iloc[:, 1:].max().max()\n",
    "\n",
    "    for index, row in df.iterrows():\n",
    "        # Получим название из первого столбца\n",
    "        title = row.iloc[0]\n",
    "\n",
    "        # Получим значения точек из остальных столбцов\n",
    "        values = row.iloc[1:].values\n",
    "\n",
    "        # Сгенерируем список с номерами точек\n",
    "        indexes = list(range(1, len(values) + 1))\n",
    "\n",
    "        # Создаем график\n",
    "        plt.plot(indexes, values, marker='o')\n",
    "\n",
    "        # Подписали оси и заголовки графика\n",
    "        plt.xlabel('Number of windows size=20')\n",
    "        plt.ylabel('Mismatch Ratio % (Mismatch Count / Segment Length)')\n",
    "        plt.title(f'{title}')\n",
    "\n",
    "        # Установим общий предел для оси y\n",
    "        plt.ylim(0, max_value)\n",
    "        plt.xticks(range(1, 22))\n",
    "\n",
    "        filename = f'{folder_name}/{title[len('aligned_'):-len('.fasta')]}.png'\n",
    "        plt.savefig(filename)\n",
    "\n",
    "        # Очистим текущую фигуру\n",
    "        plt.clf()"
   ]
  },
  {
   "cell_type": "markdown",
   "metadata": {},
   "source": [
    "Функция, запускающая тул"
   ]
  },
  {
   "cell_type": "code",
   "execution_count": null,
   "metadata": {},
   "outputs": [],
   "source": [
    "def detect_phase_variations(genomes_csv, lst_info_file, fasta_file, selection_condition):\n",
    "    \"\"\"\n",
    "    Detect phase variations in gene sequences based on specified conditions.\n",
    "\n",
    "    Args:\n",
    "        genomes_csv (str): Path to the CSV file containing genome information.\n",
    "        lst_info_file (str): Path to the LSTINFO file containing additional information.\n",
    "        fasta_file (str): Path to the FASTA file containing gene sequences.\n",
    "        selection_condition (str or list of str): Selection condition(s) for filtering gene pairs.\n",
    "    \"\"\"\n",
    "    data_2 = process_info_files(genomes_csv, lst_info_file)\n",
    "    genes_df = convert_fasta_to_dataframe(fasta_file)\n",
    "    input_table = process_dataframes(genes_df, data_2)\n",
    "\n",
    "    if isinstance(selection_condition, list):\n",
    "        for condition in selection_condition:\n",
    "            condition_rows = input_table[input_table['species'].str.contains(condition, na=False)]\n",
    "            create_gene_pairs_folders(condition_rows, condition)\n",
    "            input_folder = f\"{condition.replace(' ', '_')}_pairs\"\n",
    "            output_folder = f\"{condition.replace(' ', '_')}_pairs_aligned\"\n",
    "            align_sequences(input_folder, output_folder)\n",
    "            mismatches_df = find_mismatches(output_folder)\n",
    "            mismatches_df.to_csv(f'{condition}_mismatches.csv', index=True)\n",
    "            mismatch_imaging(f'{condition}_mismatches.csv')\n",
    "    else:\n",
    "        condition_rows = input_table[input_table['species'].str.contains(selection_condition, na=False)]\n",
    "        create_gene_pairs_folders(condition_rows, selection_condition)\n",
    "        input_folder = f\"{selection_condition.replace(' ', '_')}_pairs\"\n",
    "        output_folder = f\"{selection_condition.replace(' ', '_')}_pairs_aligned\"\n",
    "        align_sequences(input_folder, output_folder)\n",
    "        mismatches_df = find_mismatches(output_folder)\n",
    "        mismatches_df.to_csv(f'{selection_condition}_mismatches.csv', index=True)\n",
    "        mismatch_imaging(f'{selection_condition}_mismatches.csv')"
   ]
  },
  {
   "cell_type": "markdown",
   "metadata": {},
   "source": [
    "## Функция, определяющая вариацию"
   ]
  },
  {
   "cell_type": "code",
   "execution_count": 20,
   "metadata": {},
   "outputs": [],
   "source": [
    "pneumonia = pd.read_csv('Streptococcus_pneumoniae_mismatches.csv').fillna(0)"
   ]
  },
  {
   "cell_type": "code",
   "execution_count": 21,
   "metadata": {},
   "outputs": [],
   "source": [
    "pneumonia_test = pneumonia.loc[44000:47000, :]\n",
    "pneumonia_test.reset_index(drop=True, inplace=True)"
   ]
  },
  {
   "cell_type": "markdown",
   "metadata": {},
   "source": [
    "Поиск глобального максимума"
   ]
  },
  {
   "cell_type": "code",
   "execution_count": 22,
   "metadata": {},
   "outputs": [],
   "source": [
    "def find_global_maximum(y_values):\n",
    "    x_int = np.arange(1, len(y_values)+1)\n",
    "\n",
    "    # Интерполяция функции f(x)\n",
    "    interp_f = interp1d(x_int, y_values)\n",
    "    # Интерполяционная функция\n",
    "    def interpolated_f(x):\n",
    "        return interp_f(x)\n",
    "    # Определяем функцию потерь для минимизации\n",
    "    def loss(x):\n",
    "        return -interpolated_f(x)\n",
    "\n",
    "    result = differential_evolution(loss, [(1, len(y_values))])\n",
    "    return round(result.x.item()), round(-result.fun, 4)"
   ]
  },
  {
   "cell_type": "code",
   "execution_count": 23,
   "metadata": {},
   "outputs": [],
   "source": [
    "def extremum_singularity(values):\n",
    "    extremums = []\n",
    "    for _ in range(25):\n",
    "        extremums.append(find_global_maximum(values)[0])\n",
    "\n",
    "    extr_lst = list(set(extremums))\n",
    "    count = 0\n",
    "    for j in range(1, len(extr_lst)):\n",
    "        if extr_lst[j-1] + 1 == extr_lst[j] or extr_lst[j-1] + 2 == extr_lst[j]:\n",
    "            count += 1\n",
    "    return count == (len(extr_lst)-1)"
   ]
  },
  {
   "cell_type": "markdown",
   "metadata": {},
   "source": [
    "Разница между `i` и `i+1` точками"
   ]
  },
  {
   "cell_type": "code",
   "execution_count": 24,
   "metadata": {},
   "outputs": [],
   "source": [
    "def count_differences(values:list) -> list:\n",
    "    diff = []\n",
    "    for i in range(1, len(values)):\n",
    "        diff.append(round(np.abs(values[i] - values[i-1]), 4))\n",
    "    return diff"
   ]
  },
  {
   "cell_type": "markdown",
   "metadata": {},
   "source": [
    "Проверка условия, что наибольшее расстояние лежит рядом с экстремумом"
   ]
  },
  {
   "cell_type": "code",
   "execution_count": 25,
   "metadata": {},
   "outputs": [],
   "source": [
    "def max_dist_near_extr(diff:list, extr:float) -> bool:\n",
    "    \n",
    "    max_diff = np.max(diff)\n",
    "    max_diff_index = diff.index(max_diff)+2\n",
    "\n",
    "    closeness = [extr-3, extr+3]\n",
    "    if closeness[0] < max_diff_index < closeness[1]:\n",
    "        return True\n",
    "    return False"
   ]
  },
  {
   "cell_type": "code",
   "execution_count": 26,
   "metadata": {},
   "outputs": [],
   "source": [
    "def less_threshhold(values:list, threshhold:int, n:int) -> bool:\n",
    "    count = 0\n",
    "    for value in values:\n",
    "        if value < threshhold:\n",
    "            count += 1 \n",
    "    return count >= n"
   ]
  },
  {
   "cell_type": "code",
   "execution_count": 27,
   "metadata": {},
   "outputs": [],
   "source": [
    "def more_threshhold(values:list, threshhold:int, n:int) -> bool:\n",
    "    count = 0\n",
    "    for value in values:\n",
    "        if value > threshhold:\n",
    "            count += 1 \n",
    "    return count >= n"
   ]
  },
  {
   "cell_type": "markdown",
   "metadata": {},
   "source": [
    "Достаем выравнивание по имени, чтобы проверить концы на длинные гэпы"
   ]
  },
  {
   "cell_type": "code",
   "execution_count": 28,
   "metadata": {},
   "outputs": [],
   "source": [
    "def extract_alignment(dir_name, pair_name):\n",
    "\n",
    "    sequences = []\n",
    "    with open(os.path.join(f'{dir_name}', pair_name), mode='r') as file:\n",
    "        seq = ''\n",
    "        for line in file:\n",
    "            line = line.strip()\n",
    "            if line.startswith('>'):\n",
    "                if seq:\n",
    "                    sequences.append(seq)\n",
    "                    seq = ''\n",
    "            else:\n",
    "                seq += line\n",
    "        if seq:\n",
    "            sequences.append(seq)\n",
    "    return sequences"
   ]
  },
  {
   "cell_type": "markdown",
   "metadata": {},
   "source": [
    "Проверяем на гэпы"
   ]
  },
  {
   "cell_type": "code",
   "execution_count": 29,
   "metadata": {},
   "outputs": [],
   "source": [
    "def not_long_gap(values:list, dir_name:str, pair_name:str):\n",
    "    \n",
    "    seq_1, seq_2 = extract_alignment(dir_name, pair_name)\n",
    "\n",
    "    window_size = len(seq_1) // 20 \n",
    "\n",
    "    def count_end_gaps(seq, values, n):\n",
    "        seq_gaps = []\n",
    "        for i, value in enumerate(values):\n",
    "            if value >= 95:\n",
    "                seq_gaps.append(seq[n*i:n*(i+1)].count('-'))\n",
    "        return seq_gaps\n",
    "    \n",
    "    seq_1_gaps = count_end_gaps(seq_1, values, window_size)\n",
    "    seq_2_gaps = count_end_gaps(seq_2, values, window_size)\n",
    "\n",
    "    if seq_1_gaps > seq_2_gaps:\n",
    "        freq_gaps = [freq / window_size for freq in seq_1_gaps]\n",
    "        return False in set(map(lambda x: x >= 0.95, freq_gaps))\n",
    "    freq_gaps = [freq / window_size for freq in seq_2_gaps]\n",
    "    return False in set(map(lambda x: x >= 0.95, freq_gaps))"
   ]
  },
  {
   "cell_type": "code",
   "execution_count": 30,
   "metadata": {},
   "outputs": [],
   "source": [
    "dir_name = 'Streptococcus_pneumoniae_pairs_aligned'\n",
    "gene_pair_1 = 'aligned_STRP.0423.00242.0001i_01233-STRP.0423.00473.0001i_01051.fasta.best.fas'\n",
    "gene_pair_2 = 'aligned_STRP.0423.00242.0001i_01233-STRP.0423.00473.0001i_01199.fasta.best.fas'\n",
    "gene_pair_3 = 'aligned_STRP.0423.00242.0001i_01380-STRP.0423.00473.0001i_01051.fasta.best.fas'\n",
    "gene_pair_4 = 'aligned_STRP.0423.00242.0001i_01380-STRP.0423.00473.0001i_01199.fasta.best.fas'"
   ]
  },
  {
   "cell_type": "markdown",
   "metadata": {},
   "source": [
    "Проверка пары генов на соблюдения условий для нахождения паттерна в мисмэтачах"
   ]
  },
  {
   "cell_type": "code",
   "execution_count": 32,
   "metadata": {},
   "outputs": [],
   "source": [
    "def check_gene_pair(dir_name:str, pair_name:str, values:list):\n",
    "    indexes = list(range(1, len(values) + 1))\n",
    "\n",
    "    extremum_idx = find_global_maximum(values)[0]\n",
    "    extremum = find_global_maximum(values)[1]\n",
    "    differences = count_differences(values)\n",
    "    \n",
    "    if any(value > 95 for value in values):\n",
    "        return extremum_singularity(values) and max_dist_near_extr(differences, extremum_idx) and \\\n",
    "        less_threshhold(values, 20, 14) and more_threshhold(values, 40, 2) and not_long_gap(values, dir_name, pair_name)\n",
    "    else:\n",
    "        return extremum_singularity(values) and max_dist_near_extr(differences, extremum_idx) and \\\n",
    "        less_threshhold(values, 20, 14) and more_threshhold(values, 40, 2)\n",
    "\n"
   ]
  },
  {
   "cell_type": "code",
   "execution_count": 33,
   "metadata": {},
   "outputs": [],
   "source": [
    "def draw_plot(df:pd.DataFrame, pair_name:str):\n",
    "    row = df.query(\"File == @pair_name\").drop('File', axis=1)\n",
    "    values = list(row.iloc[0, 1:])\n",
    "    indexes = list(range(1, len(values) + 1))\n",
    "    plt.plot(indexes, values, marker='o')\n",
    "    plt.xticks(indexes)\n",
    "    plt.yticks(range(0, 110, 10));"
   ]
  },
  {
   "cell_type": "markdown",
   "metadata": {},
   "source": [
    "Проверил функцию `check_gene_pair` на первых 200 выравниваниях. Все работает стабильно"
   ]
  },
  {
   "cell_type": "code",
   "execution_count": null,
   "metadata": {},
   "outputs": [],
   "source": [
    "pneumonia_test = pneumonia.iloc[:200, :]\n",
    "pneumonia_test['check'] = pneumonia_test.apply(lambda x: check_gene_pair(dir_name, x[0], x[1:]), axis= 1)\n",
    "pneumonia_test_true = pneumonia_test[pneumonia_test['check'] == True]"
   ]
  },
  {
   "cell_type": "markdown",
   "metadata": {},
   "source": [
    "функция должна \n",
    "1) проверять каждую пару из списка\n",
    "2) для этой пары искать всевозможные комбинации\n",
    "3) среди этих комбинаций искать схожие графики по экстремумам и по названиям"
   ]
  },
  {
   "cell_type": "markdown",
   "metadata": {},
   "source": [
    "Для одного выравнивания (чекаем геномы) достаем всевозможные выравнивания генов внутри этих двух геномов"
   ]
  },
  {
   "cell_type": "code",
   "execution_count": 35,
   "metadata": {},
   "outputs": [],
   "source": [
    "def extract_all_pairs(gene_pair_name:str, df:pd.DataFrame) -> list:\n",
    "    first = gene_pair_name[len('aligned_'):len('aligned_')+15]\n",
    "    second = gene_pair_name[len('aligned_STRP.0423.00004.0001i_01903-'):len('aligned_STRP.0423.00004.0001i_01903-')+15]\n",
    "    gene_pairs = df.loc[df['File'].str.contains(first)].loc[df['File'].str.contains(second)].File.to_list()\n",
    "    return gene_pairs"
   ]
  },
  {
   "cell_type": "markdown",
   "metadata": {},
   "source": [
    "Ищем схожие экстремумы по индексу и по значению"
   ]
  },
  {
   "cell_type": "code",
   "execution_count": 60,
   "metadata": {},
   "outputs": [],
   "source": [
    "def find_similar_extr(extrs:dict):\n",
    "\n",
    "    matching_pairs = []\n",
    "    for name, extr in extrs.items():\n",
    "        for other_name, other_extr in extrs.items():\n",
    "            if name != other_name and extr[0] == other_extr[0] and abs(extr[1] - other_extr[1]) <= 1:\n",
    "                matching_pairs.append((name, other_name))\n",
    "    \n",
    "    return matching_pairs\n",
    "    "
   ]
  },
  {
   "cell_type": "code",
   "execution_count": 61,
   "metadata": {},
   "outputs": [],
   "source": [
    "def filter_dataframe_by_names(df, gene_pairs_local):\n",
    "    filtered_df = df[df['File'].isin(gene_pairs_local)]\n",
    "    return filtered_df"
   ]
  },
  {
   "cell_type": "markdown",
   "metadata": {},
   "source": [
    "Поиск вариации: \n",
    "1) проверка всевозможных выравниваний между генами двух геномов на выполнение условий для выявления паттерна\n",
    "2) записывает словарь, состоящий из элементов: имя_выравнивания:(индекс_экстремума, значение_экстремума)\n",
    "3) для каждого элемента в словаре ищет такой же по экстремуму\n",
    "4) выводит список пар с одинаковыми экстремумами"
   ]
  },
  {
   "cell_type": "code",
   "execution_count": 62,
   "metadata": {},
   "outputs": [],
   "source": [
    "def find_variation(df:pd.DataFrame, genes_pair_name:str, dir_name:str):\n",
    "    gene_pairs_local = filter_dataframe_by_names(df, extract_all_pairs(genes_pair_name, df))\n",
    "    gene_pairs_local['check'] = gene_pairs_local.apply(lambda x: check_gene_pair(dir_name, x[0], x[1:]), axis= 1)\n",
    "    gene_pairs_local = gene_pairs_local[gene_pairs_local['check'] == True]\n",
    "\n",
    "    extremums = {}\n",
    "    for gene_pair in gene_pairs_local.File:\n",
    "        values = list(df.query(\"File == @gene_pair\").drop('File', axis=1).iloc[0])\n",
    "        extremums[gene_pair] = find_global_maximum(values)\n",
    "    \n",
    "    res = find_similar_extr(extremums)\n",
    "    n = round( len(res) / 2)\n",
    "    return res[:n]"
   ]
  },
  {
   "cell_type": "code",
   "execution_count": 101,
   "metadata": {},
   "outputs": [],
   "source": [
    "def find_variation_in_df(input_df:pd.DataFrame, start_pos:int, stop_pos:int, dir_name:str) -> pd.DataFrame:\n",
    "    input_df_test = input_df.iloc[start_pos:stop_pos, :]\n",
    "    input_df_test['check'] = input_df_test.apply(lambda x: check_gene_pair(dir_name, x[0], x[1:]), axis=1)\n",
    "    input_df_test_true = input_df_test[input_df_test['check'] == True]\n",
    "\n",
    "    genes_pairs_names = input_df_test_true.File.to_list()\n",
    "    \n",
    "    output_df = pd.DataFrame(columns=['genome_A','genome_B', 'gene_1A', 'gene_1B', 'gene_2A', 'gene_2B'])\n",
    "    for genes_pair in genes_pairs_names:\n",
    "        phase_variation = find_variation(input_df, genes_pair, dir_name)\n",
    "\n",
    "        if len(phase_variation) >= 2:\n",
    "            for pair in phase_variation:\n",
    "                row_to_append = pd.DataFrame([\n",
    "                    {\n",
    "                        'genome_A':pair[0][8:23], \n",
    "                        'gene_1A':pair[0][30:35],\n",
    "                        'gene_1B':pair[0][58:63],\n",
    "                        'genome_B':pair[0][36:51],\n",
    "                        'gene_2A':pair[1][30:35],\n",
    "                        'gene_2B':pair[1][58:63]\n",
    "                    }\n",
    "                ])\n",
    "                output_df = pd.concat([output_df, row_to_append], ignore_index=True)\n",
    "        new_output_df =  output_df[output_df.index % 4 == 0]\n",
    "    return new_output_df.drop_duplicates(inplace=False)"
   ]
  },
  {
   "cell_type": "code",
   "execution_count": null,
   "metadata": {},
   "outputs": [],
   "source": [
    "dir_name = 'Streptococcus_pneumoniae_pairs_aligned'\n",
    "ans_df = find_variation_in_df(pneumonia, 45000, 46000, dir_name)"
   ]
  },
  {
   "cell_type": "code",
   "execution_count": 103,
   "metadata": {},
   "outputs": [
    {
     "data": {
      "text/html": [
       "<div>\n",
       "<style scoped>\n",
       "    .dataframe tbody tr th:only-of-type {\n",
       "        vertical-align: middle;\n",
       "    }\n",
       "\n",
       "    .dataframe tbody tr th {\n",
       "        vertical-align: top;\n",
       "    }\n",
       "\n",
       "    .dataframe thead th {\n",
       "        text-align: right;\n",
       "    }\n",
       "</style>\n",
       "<table border=\"1\" class=\"dataframe\">\n",
       "  <thead>\n",
       "    <tr style=\"text-align: right;\">\n",
       "      <th></th>\n",
       "      <th>genome_A</th>\n",
       "      <th>genome_B</th>\n",
       "      <th>gene_1A</th>\n",
       "      <th>gene_1B</th>\n",
       "      <th>gene_2A</th>\n",
       "      <th>gene_2B</th>\n",
       "    </tr>\n",
       "  </thead>\n",
       "  <tbody>\n",
       "    <tr>\n",
       "      <th>0</th>\n",
       "      <td>STRP.0423.00242</td>\n",
       "      <td>STRP.0423.00473</td>\n",
       "      <td>01233</td>\n",
       "      <td>01051</td>\n",
       "      <td>01380</td>\n",
       "      <td>01199</td>\n",
       "    </tr>\n",
       "    <tr>\n",
       "      <th>4</th>\n",
       "      <td>STRP.0423.00242</td>\n",
       "      <td>STRP.0423.00297</td>\n",
       "      <td>01233</td>\n",
       "      <td>00855</td>\n",
       "      <td>01380</td>\n",
       "      <td>01001</td>\n",
       "    </tr>\n",
       "    <tr>\n",
       "      <th>8</th>\n",
       "      <td>STRP.0423.00242</td>\n",
       "      <td>STRP.0423.00317</td>\n",
       "      <td>01233</td>\n",
       "      <td>01004</td>\n",
       "      <td>01380</td>\n",
       "      <td>01152</td>\n",
       "    </tr>\n",
       "  </tbody>\n",
       "</table>\n",
       "</div>"
      ],
      "text/plain": [
       "          genome_A         genome_B gene_1A gene_1B gene_2A gene_2B\n",
       "0  STRP.0423.00242  STRP.0423.00473   01233   01051   01380   01199\n",
       "4  STRP.0423.00242  STRP.0423.00297   01233   00855   01380   01001\n",
       "8  STRP.0423.00242  STRP.0423.00317   01233   01004   01380   01152"
      ]
     },
     "execution_count": 103,
     "metadata": {},
     "output_type": "execute_result"
    }
   ],
   "source": [
    "ans_df.drop_duplicates(inplace=False)"
   ]
  },
  {
   "cell_type": "code",
   "execution_count": 83,
   "metadata": {},
   "outputs": [
    {
     "data": {
      "text/plain": [
       "['aligned_STRP.0423.00242.0001i_01233-STRP.0423.00317.0001i_01004.fasta.best.fas',\n",
       " 'aligned_STRP.0423.00242.0001i_01233-STRP.0423.00317.0001i_01005.fasta.best.fas',\n",
       " 'aligned_STRP.0423.00242.0001i_01233-STRP.0423.00317.0001i_01008.fasta.best.fas',\n",
       " 'aligned_STRP.0423.00242.0001i_01233-STRP.0423.00317.0001i_01152.fasta.best.fas',\n",
       " 'aligned_STRP.0423.00242.0001i_01377-STRP.0423.00317.0001i_01004.fasta.best.fas',\n",
       " 'aligned_STRP.0423.00242.0001i_01377-STRP.0423.00317.0001i_01005.fasta.best.fas',\n",
       " 'aligned_STRP.0423.00242.0001i_01377-STRP.0423.00317.0001i_01008.fasta.best.fas',\n",
       " 'aligned_STRP.0423.00242.0001i_01377-STRP.0423.00317.0001i_01152.fasta.best.fas',\n",
       " 'aligned_STRP.0423.00242.0001i_01379-STRP.0423.00317.0001i_01004.fasta.best.fas',\n",
       " 'aligned_STRP.0423.00242.0001i_01379-STRP.0423.00317.0001i_01005.fasta.best.fas',\n",
       " 'aligned_STRP.0423.00242.0001i_01379-STRP.0423.00317.0001i_01008.fasta.best.fas',\n",
       " 'aligned_STRP.0423.00242.0001i_01379-STRP.0423.00317.0001i_01152.fasta.best.fas',\n",
       " 'aligned_STRP.0423.00242.0001i_01380-STRP.0423.00317.0001i_01004.fasta.best.fas',\n",
       " 'aligned_STRP.0423.00242.0001i_01380-STRP.0423.00317.0001i_01005.fasta.best.fas',\n",
       " 'aligned_STRP.0423.00242.0001i_01380-STRP.0423.00317.0001i_01008.fasta.best.fas',\n",
       " 'aligned_STRP.0423.00242.0001i_01380-STRP.0423.00317.0001i_01152.fasta.best.fas']"
      ]
     },
     "execution_count": 83,
     "metadata": {},
     "output_type": "execute_result"
    }
   ],
   "source": [
    "extract_all_pairs('aligned_STRP.0423.00242.0001i_01233-STRP.0423.00317.0001i_.fasta.best.fas', pneumonia)"
   ]
  },
  {
   "cell_type": "code",
   "execution_count": 87,
   "metadata": {},
   "outputs": [
    {
     "data": {
      "image/png": "[encoded data removed]",
      "text/plain": [
       "<Figure size 640x480 with 1 Axes>"
      ]
     },
     "metadata": {},
     "output_type": "display_data"
    }
   ],
   "source": [
    "draw_plot(pneumonia, 'aligned_STRP.0423.00242.0001i_01380-STRP.0423.00317.0001i_01152.fasta.best.fas')"
   ]
  }
 ],
 "metadata": {
  "kernelspec": {
   "display_name": "phfa",
   "language": "python",
   "name": "python3"
  },
  "language_info": {
   "codemirror_mode": {
    "name": "ipython",
    "version": 3
   },
   "file_extension": ".py",
   "mimetype": "text/x-python",
   "name": "python",
   "nbconvert_exporter": "python",
   "pygments_lexer": "ipython3",
   "version": "3.12.0"
  }
 },
 "nbformat": 4,
 "nbformat_minor": 2
}
