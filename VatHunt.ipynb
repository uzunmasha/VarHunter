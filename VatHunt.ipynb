{
 "cells": [
  {
   "cell_type": "code",
   "execution_count": 67,
   "metadata": {},
   "outputs": [
    {
     "name": "stdout",
     "output_type": "stream",
     "text": [
      "Collecting scipy\n",
      "  Using cached scipy-1.12.0-cp312-cp312-macosx_10_9_x86_64.whl.metadata (60 kB)\n",
      "Requirement already satisfied: numpy<1.29.0,>=1.22.4 in /Users/nikitazherko/opt/anaconda3/envs/phfa/lib/python3.12/site-packages (from scipy) (1.26.3)\n",
      "Using cached scipy-1.12.0-cp312-cp312-macosx_10_9_x86_64.whl (38.9 MB)\n",
      "Installing collected packages: scipy\n",
      "Successfully installed scipy-1.12.0\n"
     ]
    }
   ],
   "source": [
    "! pip install scipy"
   ]
  },
  {
   "cell_type": "code",
   "execution_count": 2,
   "metadata": {},
   "outputs": [],
   "source": [
    "from Bio import AlignIO\n",
    "import os\n",
    "import multiprocessing\n",
    "import pandas as pd\n",
    "import matplotlib.pyplot as plt\n",
    "import numpy as np\n",
    "from scipy.optimize import minimize\n",
    "from scipy.interpolate import interp1d\n",
    "from scipy.optimize import differential_evolution"
   ]
  },
  {
   "cell_type": "markdown",
   "metadata": {},
   "source": [
    "Экстракция данных из файла с геномами и создание датафрейма"
   ]
  },
  {
   "cell_type": "code",
   "execution_count": 2,
   "metadata": {},
   "outputs": [],
   "source": [
    "def process_info_files(genomes_csv, lst_info_file):\n",
    "    \"\"\"\n",
    "    Process information files to extract relevant data for further analysis.\n",
    "\n",
    "    Args:\n",
    "        genomes_csv (str): Path to the CSV file containing genome information.\n",
    "        lst_info_file (str): Path to the LSTINFO file containing additional information.\n",
    "\n",
    "    Returns:\n",
    "        pandas.DataFrame: Processed DataFrame containing necessary information.\n",
    "    \"\"\"\n",
    "    genome_names = pd.read_csv(genomes_csv, sep='\\t', header=None).rename(columns={0:'GCF', 1:'species', 2:'strain'})\n",
    "    genome_names['strain'] = genome_names['strain'].str[len('strain='):]\n",
    "    genome_names['strain'] = genome_names['strain'].fillna(0)\n",
    "\n",
    "    lst_info = pd.read_csv(lst_info_file, sep='\\t')\n",
    "    lst_info['GCF'] = lst_info['orig_name'].str.extract(r'(GCF\\_\\d{9}\\.\\d{1})', expand=True)\n",
    "\n",
    "    data_1 = lst_info[['gembase_name', 'GCF']]\n",
    "    data_2 = pd.merge(data_1, genome_names, on='GCF')\n",
    "\n",
    "    return data_2"
   ]
  },
  {
   "cell_type": "markdown",
   "metadata": {},
   "source": [
    "Создаем датафрейм с последовательностями генов."
   ]
  },
  {
   "cell_type": "code",
   "execution_count": 3,
   "metadata": {},
   "outputs": [],
   "source": [
    "def convert_fasta_to_dataframe(file_name):\n",
    "    \"\"\"\n",
    "    Convert a FASTA file to a pandas DataFrame.\n",
    "\n",
    "    Args:\n",
    "        file_name (str): Path to the input FASTA file.\n",
    "\n",
    "    Returns:\n",
    "        pandas.DataFrame: DataFrame containing gene sequences and related information.\n",
    "    \"\"\"\n",
    "    dic = {}\n",
    "    cur_scaf = ''\n",
    "    cur_seq = []\n",
    "\n",
    "    for line in open(file_name):\n",
    "        if line.startswith(\">\") and cur_scaf == '':\n",
    "            cur_scaf = line.split(' ')[0][1:]\n",
    "        elif line.startswith(\">\") and cur_scaf != '':\n",
    "            dic[cur_scaf] = ''.join(cur_seq)\n",
    "            cur_scaf = line.split(' ')[0][1:]\n",
    "            cur_seq = []\n",
    "        else:\n",
    "            cur_seq.append(line.rstrip())\n",
    "\n",
    "    dic[cur_scaf] = ''.join(cur_seq)\n",
    "\n",
    "    names = dic.keys()\n",
    "    seqs = dic.values()\n",
    "\n",
    "    genes_dict = {'name': names, 'gene': seqs}\n",
    "    genes_df = pd.DataFrame.from_dict(genes_dict)\n",
    "    genes_df['gembase_name'] = genes_df['name'].str.extract(r'(STRP\\.0423\\.\\d{5})', expand=True)\n",
    "\n",
    "    return genes_df\n"
   ]
  },
  {
   "cell_type": "markdown",
   "metadata": {},
   "source": [
    "Смердживаем два датафрейма с предыдущих шагов"
   ]
  },
  {
   "cell_type": "code",
   "execution_count": null,
   "metadata": {},
   "outputs": [],
   "source": [
    "def process_dataframes(genes_df, data_2):\n",
    "    \"\"\"\n",
    "    Process DataFrames containing gene sequences and additional information.\n",
    "\n",
    "    Args:\n",
    "        genes_df (pandas.DataFrame): DataFrame containing gene sequences.\n",
    "        data_2 (pandas.DataFrame): DataFrame containing additional information.\n",
    "\n",
    "    Returns:\n",
    "        pandas.DataFrame: Processed DataFrame with merged data.\n",
    "    \"\"\"\n",
    "    input_table = pd.merge(genes_df, data_2, on='gembase_name')\n",
    "    input_table = input_table[['name', 'GCF', 'species', 'strain', 'gene']]\n",
    "    input_table = input_table[~input_table['species'].str.contains(' sp.')]\n",
    "\n",
    "    return input_table"
   ]
  },
  {
   "cell_type": "markdown",
   "metadata": {},
   "source": [
    "Поиск мисмэтчей в попарных выравниваниях."
   ]
  },
  {
   "cell_type": "code",
   "execution_count": 4,
   "metadata": {},
   "outputs": [],
   "source": [
    "def find_mismatches(output_folder):\n",
    "    mismatches_data = []\n",
    "\n",
    "    # Проходим по всем файлам в папке output_folder\n",
    "    for filename in os.listdir(output_folder):\n",
    "        if filename.endswith('.fas'):\n",
    "            aligned_file = os.path.join(output_folder, filename)\n",
    "            \n",
    "            # Открываем файл с выравниванием\n",
    "            alignment = AlignIO.read(aligned_file, 'fasta')\n",
    "            \n",
    "            # Получаем длину выравнивания\n",
    "            alignment_length = alignment.get_alignment_length()\n",
    "\n",
    "            # Разделяем длину на 20 сегментов\n",
    "            segment_length = alignment_length // 20\n",
    "\n",
    "            # Проходим по выравниванию с окном длиной segment_length\n",
    "            for i in range(0, alignment_length, segment_length):\n",
    "                # Инициализируем счетчик мисматчей для текущего сегмента\n",
    "                mismatch_count = 0\n",
    "\n",
    "                # Проходим по каждой позиции в сегменте и сравниваем символы в выравниваниях\n",
    "                for j in range(segment_length):\n",
    "                    # Проверяем, что индексы не выходят за пределы длины выравнивания\n",
    "                    if i + j < alignment_length:\n",
    "                        # Получаем символы из каждого выравнивания\n",
    "                        symbol1 = alignment[0, i + j]\n",
    "                        symbol2 = alignment[1, i + j]\n",
    "                        \n",
    "                        # Если символы не совпадают, увеличиваем счетчик мисматчей\n",
    "                        if symbol1 != symbol2:\n",
    "                            mismatch_count += 1\n",
    "                \n",
    "                # Вычисляем количество мисмэтчей в текущем сегменте, поделенное на длину сегмента\n",
    "                mismatch_ratio = mismatch_count / segment_length * 100\n",
    "\n",
    "                # Добавляем данные о мисматчах для текущего сегмента в список\n",
    "                mismatches_data.append({'File': filename,\n",
    "                                        'Segment': i // segment_length + 1,\n",
    "                                        'Mismatch_Count': mismatch_ratio})\n",
    "    \n",
    "    # Создаем DataFrame из списка словарей\n",
    "    df = pd.DataFrame(mismatches_data)\n",
    "    \n",
    "    # Переворачиваем таблицу так, чтобы сегменты были столбцами\n",
    "    df = df.pivot(index='File', columns='Segment', values='Mismatch_Count')\n",
    "    \n",
    "    return df"
   ]
  },
  {
   "cell_type": "markdown",
   "metadata": {},
   "source": [
    "Создаем отдельную папку с парами генов по каждому условию. "
   ]
  },
  {
   "cell_type": "code",
   "execution_count": 5,
   "metadata": {},
   "outputs": [],
   "source": [
    "def create_gene_pairs_folders(condition_rows, selection_condition):\n",
    "    \"\"\"\n",
    "    Create folders and save gene pairs based on specified conditions.\n",
    "\n",
    "    Args:\n",
    "        condition_rows (pandas.DataFrame): DataFrame containing gene pairs.\n",
    "        selection_condition (str): Selection condition for filtering gene pairs.\n",
    "    \"\"\"\n",
    "    # Создаем папку для сохранения пар\n",
    "    output_folder = f\"{selection_condition.replace(' ', '_')}_pairs\"\n",
    "    os.makedirs(output_folder, exist_ok=True)\n",
    "\n",
    "    # Получаем количество строк в DataFrame\n",
    "    num_rows = len(condition_rows)\n",
    "\n",
    "    # Проходим по каждой строке в DataFrame\n",
    "    for i in range(num_rows):\n",
    "        for j in range(i + 1, num_rows):\n",
    "            # Получаем значения из пары\n",
    "            name1, name2 = condition_rows.iloc[i]['name'], condition_rows.iloc[j]['name']\n",
    "            gcf1, gcf2 = condition_rows.iloc[i]['GCF'], condition_rows.iloc[j]['GCF']\n",
    "\n",
    "            # Проверяем, что значения из пары не совпадают и GCF у пары разные\n",
    "            if name1 != name2 and gcf1 != gcf2:\n",
    "                # Форматируем текст и создаем имя файла\n",
    "                row1 = condition_rows.iloc[i]\n",
    "                row2 = condition_rows.iloc[j]\n",
    "                \n",
    "                # Заменяем пробелы на нижнее подчеркивание\n",
    "                species1 = row1['species'].replace(' ', '_')\n",
    "                species2 = row2['species'].replace(' ', '_')\n",
    "\n",
    "                formatted_text = f\">{row1['name']}_{row1['GCF']}_{species1}_{row1['strain']}\\n{row1['gene']}\\n\"\n",
    "                formatted_text += f\">{row2['name']}_{row2['GCF']}_{species2}_{row2['strain']}\\n{row2['gene']}\\n\"\n",
    "                \n",
    "                # Создаем имя файла\n",
    "                filename = f\"{output_folder}/{row1['name']}-{row2['name']}.fasta\"\n",
    "\n",
    "                # Сохраняем пару в файл\n",
    "                with open(filename, 'w') as file:\n",
    "                    file.write(formatted_text)"
   ]
  },
  {
   "cell_type": "markdown",
   "metadata": {},
   "source": [
    "Создаем новую папку, куда записываем попарные выравнивания."
   ]
  },
  {
   "cell_type": "code",
   "execution_count": 6,
   "metadata": {},
   "outputs": [],
   "source": [
    "def align_sequences(input_folder, output_folder):\n",
    "    \"\"\"\n",
    "    Align gene sequences using the PRANK algorithm with codon-based alignment.\n",
    "\n",
    "    Args:\n",
    "        input_folder (str): Path to the folder containing input FASTA files.\n",
    "        output_folder (str): Path to the folder for saving aligned sequences.\n",
    "    \"\"\"\n",
    "    # Проверяем, существует ли уже папка с выравниваниями\n",
    "    if os.path.exists(output_folder):\n",
    "        print(f\"Folder {output_folder} already exists. Skipping alignment.\")\n",
    "        # Если папка существует, переходим сразу к поиску мисмэтчей\n",
    "        find_mismatches(output_folder)\n",
    "        return\n",
    "\n",
    "    os.makedirs(output_folder, exist_ok=True)\n",
    "    \n",
    "    # Определяем количество доступных процессоров\n",
    "    num_processors = multiprocessing.cpu_count()\n",
    "    \n",
    "    # Создаем пул процессов\n",
    "    pool = multiprocessing.Pool(processes=num_processors)\n",
    "    \n",
    "    # Получаем список файлов в папке\n",
    "    files = [os.path.join(input_folder, f) for f in os.listdir(input_folder) if f.endswith('.fasta')]\n",
    "    \n",
    "    # Запускаем выравнивание для каждого файла в пуле процессов\n",
    "    for filename in files:\n",
    "        input_path = filename\n",
    "        output_path = os.path.join(output_folder, f\"aligned_{os.path.basename(filename)}\")\n",
    "\n",
    "        command = f\"prank -d={input_path} -o={output_path} -codon\"\n",
    "        os.system(command)\n",
    "    \n",
    "    # Завершаем работу пула процессов\n",
    "    pool.close()\n",
    "    pool.join()\n",
    "    \n",
    "    # После каждого выравнивания вызываем функцию для анализа мисмэтчей\n",
    "    find_mismatches(output_folder)"
   ]
  },
  {
   "cell_type": "markdown",
   "metadata": {},
   "source": [
    "Строим графики с мисмэтчами"
   ]
  },
  {
   "cell_type": "code",
   "execution_count": 60,
   "metadata": {},
   "outputs": [],
   "source": [
    "def mismatch_imaging(file_name:str):\n",
    "    df = pd.read_csv(file_name)\n",
    "    df.name = file_name[:-len('_mismatches.csv')]\n",
    "\n",
    "    condition = f'{df.name}'\n",
    "    folder_name = f'{condition}_plots'\n",
    "    os.makedirs(folder_name, exist_ok=True)\n",
    "\n",
    "    # Найдем максимальное значение на всем диапазоне графиков для установки общего предела оси y\n",
    "    max_value = df.iloc[:, 1:].max().max()\n",
    "\n",
    "    for index, row in df.iterrows():\n",
    "        # Получим название из первого столбца\n",
    "        title = row.iloc[0]\n",
    "\n",
    "        # Получим значения точек из остальных столбцов\n",
    "        values = row.iloc[1:].values\n",
    "\n",
    "        # Сгенерируем список с номерами точек\n",
    "        indexes = list(range(1, len(values) + 1))\n",
    "\n",
    "        # Создаем график\n",
    "        plt.plot(indexes, values, marker='o')\n",
    "\n",
    "        # Подписали оси и заголовки графика\n",
    "        plt.xlabel('Number of windows size=20')\n",
    "        plt.ylabel('Mismatch Ratio % (Mismatch Count / Segment Length)')\n",
    "        plt.title(f'{title}')\n",
    "\n",
    "        # Установим общий предел для оси y\n",
    "        plt.ylim(0, max_value)\n",
    "        plt.xticks(range(1, 22))\n",
    "\n",
    "        filename = f'{folder_name}/{title[len('aligned_'):-len('.fasta')]}.png'\n",
    "        plt.savefig(filename)\n",
    "\n",
    "        # Очистим текущую фигуру\n",
    "        plt.clf()"
   ]
  },
  {
   "cell_type": "markdown",
   "metadata": {},
   "source": [
    "Функция, запускающая тул"
   ]
  },
  {
   "cell_type": "code",
   "execution_count": null,
   "metadata": {},
   "outputs": [],
   "source": [
    "def detect_phase_variations(genomes_csv, lst_info_file, fasta_file, selection_condition):\n",
    "    \"\"\"\n",
    "    Detect phase variations in gene sequences based on specified conditions.\n",
    "\n",
    "    Args:\n",
    "        genomes_csv (str): Path to the CSV file containing genome information.\n",
    "        lst_info_file (str): Path to the LSTINFO file containing additional information.\n",
    "        fasta_file (str): Path to the FASTA file containing gene sequences.\n",
    "        selection_condition (str or list of str): Selection condition(s) for filtering gene pairs.\n",
    "    \"\"\"\n",
    "    data_2 = process_info_files(genomes_csv, lst_info_file)\n",
    "    genes_df = convert_fasta_to_dataframe(fasta_file)\n",
    "    input_table = process_dataframes(genes_df, data_2)\n",
    "\n",
    "    if isinstance(selection_condition, list):\n",
    "        for condition in selection_condition:\n",
    "            condition_rows = input_table[input_table['species'].str.contains(condition, na=False)]\n",
    "            create_gene_pairs_folders(condition_rows, condition)\n",
    "            input_folder = f\"{condition.replace(' ', '_')}_pairs\"\n",
    "            output_folder = f\"{condition.replace(' ', '_')}_pairs_aligned\"\n",
    "            align_sequences(input_folder, output_folder)\n",
    "            mismatches_df = find_mismatches(output_folder)\n",
    "            mismatches_df.to_csv(f'{condition}_mismatches.csv', index=True)\n",
    "            mismatch_imaging(f'{condition}_mismatches.csv')\n",
    "    else:\n",
    "        condition_rows = input_table[input_table['species'].str.contains(selection_condition, na=False)]\n",
    "        create_gene_pairs_folders(condition_rows, selection_condition)\n",
    "        input_folder = f\"{selection_condition.replace(' ', '_')}_pairs\"\n",
    "        output_folder = f\"{selection_condition.replace(' ', '_')}_pairs_aligned\"\n",
    "        align_sequences(input_folder, output_folder)\n",
    "        mismatches_df = find_mismatches(output_folder)\n",
    "        mismatches_df.to_csv(f'{selection_condition}_mismatches.csv', index=True)\n",
    "        mismatch_imaging(f'{selection_condition}_mismatches.csv')"
   ]
  },
  {
   "cell_type": "markdown",
   "metadata": {},
   "source": [
    "## Функция, определяющая вариацию"
   ]
  },
  {
   "cell_type": "code",
   "execution_count": 3,
   "metadata": {},
   "outputs": [],
   "source": [
    "pneumonia = pd.read_csv('Streptococcus_pneumoniae_mismatches.csv')\n",
    "gordonii = pd.read_csv('Streptococcus_gordonii_mismatches.csv')\n",
    "porcinus = pd.read_csv('Streptococcus_porcinus_mismatches.csv')"
   ]
  },
  {
   "cell_type": "code",
   "execution_count": 4,
   "metadata": {},
   "outputs": [
    {
     "data": {
      "text/html": [
       "<div>\n",
       "<style scoped>\n",
       "    .dataframe tbody tr th:only-of-type {\n",
       "        vertical-align: middle;\n",
       "    }\n",
       "\n",
       "    .dataframe tbody tr th {\n",
       "        vertical-align: top;\n",
       "    }\n",
       "\n",
       "    .dataframe thead th {\n",
       "        text-align: right;\n",
       "    }\n",
       "</style>\n",
       "<table border=\"1\" class=\"dataframe\">\n",
       "  <thead>\n",
       "    <tr style=\"text-align: right;\">\n",
       "      <th></th>\n",
       "      <th>File</th>\n",
       "      <th>1</th>\n",
       "      <th>2</th>\n",
       "      <th>3</th>\n",
       "      <th>4</th>\n",
       "      <th>5</th>\n",
       "      <th>6</th>\n",
       "      <th>7</th>\n",
       "      <th>8</th>\n",
       "      <th>9</th>\n",
       "      <th>...</th>\n",
       "      <th>12</th>\n",
       "      <th>13</th>\n",
       "      <th>14</th>\n",
       "      <th>15</th>\n",
       "      <th>16</th>\n",
       "      <th>17</th>\n",
       "      <th>18</th>\n",
       "      <th>19</th>\n",
       "      <th>20</th>\n",
       "      <th>21</th>\n",
       "    </tr>\n",
       "  </thead>\n",
       "  <tbody>\n",
       "    <tr>\n",
       "      <th>0</th>\n",
       "      <td>aligned_STRP.0423.00004.0001i_01903-STRP.0423....</td>\n",
       "      <td>0.000000</td>\n",
       "      <td>0.000000</td>\n",
       "      <td>0.000000</td>\n",
       "      <td>0.800000</td>\n",
       "      <td>8.000000</td>\n",
       "      <td>11.200000</td>\n",
       "      <td>0.800000</td>\n",
       "      <td>4.000000</td>\n",
       "      <td>2.400000</td>\n",
       "      <td>...</td>\n",
       "      <td>1.600000</td>\n",
       "      <td>0.000000</td>\n",
       "      <td>0.800000</td>\n",
       "      <td>0.800000</td>\n",
       "      <td>0.000000</td>\n",
       "      <td>0.800000</td>\n",
       "      <td>0.800000</td>\n",
       "      <td>1.600000</td>\n",
       "      <td>0.000000</td>\n",
       "      <td>0.000000</td>\n",
       "    </tr>\n",
       "    <tr>\n",
       "      <th>1</th>\n",
       "      <td>aligned_STRP.0423.00004.0001i_01903-STRP.0423....</td>\n",
       "      <td>34.636872</td>\n",
       "      <td>22.905028</td>\n",
       "      <td>31.284916</td>\n",
       "      <td>25.698324</td>\n",
       "      <td>53.072626</td>\n",
       "      <td>42.458101</td>\n",
       "      <td>79.329609</td>\n",
       "      <td>83.798883</td>\n",
       "      <td>83.798883</td>\n",
       "      <td>...</td>\n",
       "      <td>75.418994</td>\n",
       "      <td>82.681564</td>\n",
       "      <td>87.150838</td>\n",
       "      <td>92.737430</td>\n",
       "      <td>100.000000</td>\n",
       "      <td>62.011173</td>\n",
       "      <td>79.888268</td>\n",
       "      <td>82.681564</td>\n",
       "      <td>63.128492</td>\n",
       "      <td>2.234637</td>\n",
       "    </tr>\n",
       "    <tr>\n",
       "      <th>2</th>\n",
       "      <td>aligned_STRP.0423.00004.0001i_01903-STRP.0423....</td>\n",
       "      <td>30.075188</td>\n",
       "      <td>24.812030</td>\n",
       "      <td>18.796992</td>\n",
       "      <td>33.082707</td>\n",
       "      <td>18.045113</td>\n",
       "      <td>78.947368</td>\n",
       "      <td>84.210526</td>\n",
       "      <td>24.812030</td>\n",
       "      <td>3.759398</td>\n",
       "      <td>...</td>\n",
       "      <td>1.503759</td>\n",
       "      <td>0.000000</td>\n",
       "      <td>0.751880</td>\n",
       "      <td>0.751880</td>\n",
       "      <td>0.000000</td>\n",
       "      <td>18.796992</td>\n",
       "      <td>75.939850</td>\n",
       "      <td>51.127820</td>\n",
       "      <td>35.338346</td>\n",
       "      <td>12.030075</td>\n",
       "    </tr>\n",
       "    <tr>\n",
       "      <th>3</th>\n",
       "      <td>aligned_STRP.0423.00004.0001i_01903-STRP.0423....</td>\n",
       "      <td>4.800000</td>\n",
       "      <td>1.600000</td>\n",
       "      <td>2.400000</td>\n",
       "      <td>5.600000</td>\n",
       "      <td>8.000000</td>\n",
       "      <td>10.400000</td>\n",
       "      <td>0.000000</td>\n",
       "      <td>4.000000</td>\n",
       "      <td>2.400000</td>\n",
       "      <td>...</td>\n",
       "      <td>0.800000</td>\n",
       "      <td>0.000000</td>\n",
       "      <td>0.000000</td>\n",
       "      <td>0.000000</td>\n",
       "      <td>0.000000</td>\n",
       "      <td>0.000000</td>\n",
       "      <td>0.800000</td>\n",
       "      <td>3.200000</td>\n",
       "      <td>0.000000</td>\n",
       "      <td>0.000000</td>\n",
       "    </tr>\n",
       "    <tr>\n",
       "      <th>4</th>\n",
       "      <td>aligned_STRP.0423.00004.0001i_01903-STRP.0423....</td>\n",
       "      <td>35.195531</td>\n",
       "      <td>22.905028</td>\n",
       "      <td>30.726257</td>\n",
       "      <td>25.698324</td>\n",
       "      <td>53.072626</td>\n",
       "      <td>42.458101</td>\n",
       "      <td>79.329609</td>\n",
       "      <td>83.798883</td>\n",
       "      <td>83.798883</td>\n",
       "      <td>...</td>\n",
       "      <td>75.418994</td>\n",
       "      <td>82.681564</td>\n",
       "      <td>87.150838</td>\n",
       "      <td>92.737430</td>\n",
       "      <td>100.000000</td>\n",
       "      <td>62.011173</td>\n",
       "      <td>79.888268</td>\n",
       "      <td>83.240223</td>\n",
       "      <td>63.128492</td>\n",
       "      <td>2.234637</td>\n",
       "    </tr>\n",
       "    <tr>\n",
       "      <th>...</th>\n",
       "      <td>...</td>\n",
       "      <td>...</td>\n",
       "      <td>...</td>\n",
       "      <td>...</td>\n",
       "      <td>...</td>\n",
       "      <td>...</td>\n",
       "      <td>...</td>\n",
       "      <td>...</td>\n",
       "      <td>...</td>\n",
       "      <td>...</td>\n",
       "      <td>...</td>\n",
       "      <td>...</td>\n",
       "      <td>...</td>\n",
       "      <td>...</td>\n",
       "      <td>...</td>\n",
       "      <td>...</td>\n",
       "      <td>...</td>\n",
       "      <td>...</td>\n",
       "      <td>...</td>\n",
       "      <td>...</td>\n",
       "      <td>...</td>\n",
       "    </tr>\n",
       "    <tr>\n",
       "      <th>94143</th>\n",
       "      <td>aligned_STRP.0423.00803.0001i_01145-STRP.0423....</td>\n",
       "      <td>30.232558</td>\n",
       "      <td>25.581395</td>\n",
       "      <td>19.379845</td>\n",
       "      <td>24.031008</td>\n",
       "      <td>19.379845</td>\n",
       "      <td>55.813953</td>\n",
       "      <td>58.139535</td>\n",
       "      <td>25.581395</td>\n",
       "      <td>7.751938</td>\n",
       "      <td>...</td>\n",
       "      <td>39.534884</td>\n",
       "      <td>32.558140</td>\n",
       "      <td>25.581395</td>\n",
       "      <td>36.434109</td>\n",
       "      <td>30.232558</td>\n",
       "      <td>34.883721</td>\n",
       "      <td>83.720930</td>\n",
       "      <td>44.961240</td>\n",
       "      <td>41.085271</td>\n",
       "      <td>10.852713</td>\n",
       "    </tr>\n",
       "    <tr>\n",
       "      <th>94144</th>\n",
       "      <td>aligned_STRP.0423.00803.0001i_01145-STRP.0423....</td>\n",
       "      <td>40.449438</td>\n",
       "      <td>20.786517</td>\n",
       "      <td>30.898876</td>\n",
       "      <td>25.842697</td>\n",
       "      <td>60.112360</td>\n",
       "      <td>37.640449</td>\n",
       "      <td>93.820225</td>\n",
       "      <td>66.853933</td>\n",
       "      <td>68.539326</td>\n",
       "      <td>...</td>\n",
       "      <td>73.595506</td>\n",
       "      <td>78.089888</td>\n",
       "      <td>76.404494</td>\n",
       "      <td>75.280899</td>\n",
       "      <td>82.022472</td>\n",
       "      <td>62.921348</td>\n",
       "      <td>88.202247</td>\n",
       "      <td>78.651685</td>\n",
       "      <td>90.449438</td>\n",
       "      <td>0.561798</td>\n",
       "    </tr>\n",
       "    <tr>\n",
       "      <th>94145</th>\n",
       "      <td>aligned_STRP.0423.00803.0001i_01145-STRP.0423....</td>\n",
       "      <td>70.491803</td>\n",
       "      <td>100.000000</td>\n",
       "      <td>73.770492</td>\n",
       "      <td>95.901639</td>\n",
       "      <td>68.852459</td>\n",
       "      <td>72.131148</td>\n",
       "      <td>77.868852</td>\n",
       "      <td>100.000000</td>\n",
       "      <td>90.983607</td>\n",
       "      <td>...</td>\n",
       "      <td>100.000000</td>\n",
       "      <td>100.000000</td>\n",
       "      <td>60.655738</td>\n",
       "      <td>75.409836</td>\n",
       "      <td>79.508197</td>\n",
       "      <td>91.803279</td>\n",
       "      <td>100.000000</td>\n",
       "      <td>86.065574</td>\n",
       "      <td>82.786885</td>\n",
       "      <td>5.737705</td>\n",
       "    </tr>\n",
       "    <tr>\n",
       "      <th>94146</th>\n",
       "      <td>aligned_STRP.0423.00803.0001i_01145-STRP.0423....</td>\n",
       "      <td>22.834646</td>\n",
       "      <td>10.236220</td>\n",
       "      <td>2.362205</td>\n",
       "      <td>22.834646</td>\n",
       "      <td>18.110236</td>\n",
       "      <td>56.692913</td>\n",
       "      <td>62.204724</td>\n",
       "      <td>29.133858</td>\n",
       "      <td>8.661417</td>\n",
       "      <td>...</td>\n",
       "      <td>37.795276</td>\n",
       "      <td>33.858268</td>\n",
       "      <td>23.622047</td>\n",
       "      <td>35.433071</td>\n",
       "      <td>30.708661</td>\n",
       "      <td>31.496063</td>\n",
       "      <td>85.826772</td>\n",
       "      <td>32.283465</td>\n",
       "      <td>36.220472</td>\n",
       "      <td>14.960630</td>\n",
       "    </tr>\n",
       "    <tr>\n",
       "      <th>94147</th>\n",
       "      <td>aligned_STRP.0423.00803.0001i_01145-STRP.0423....</td>\n",
       "      <td>0.000000</td>\n",
       "      <td>2.459016</td>\n",
       "      <td>13.934426</td>\n",
       "      <td>3.278689</td>\n",
       "      <td>0.000000</td>\n",
       "      <td>0.000000</td>\n",
       "      <td>0.000000</td>\n",
       "      <td>20.491803</td>\n",
       "      <td>1.639344</td>\n",
       "      <td>...</td>\n",
       "      <td>0.000000</td>\n",
       "      <td>0.000000</td>\n",
       "      <td>0.000000</td>\n",
       "      <td>0.819672</td>\n",
       "      <td>0.000000</td>\n",
       "      <td>0.819672</td>\n",
       "      <td>0.000000</td>\n",
       "      <td>0.000000</td>\n",
       "      <td>0.000000</td>\n",
       "      <td>0.000000</td>\n",
       "    </tr>\n",
       "  </tbody>\n",
       "</table>\n",
       "<p>94148 rows × 22 columns</p>\n",
       "</div>"
      ],
      "text/plain": [
       "                                                    File          1  \\\n",
       "0      aligned_STRP.0423.00004.0001i_01903-STRP.0423....   0.000000   \n",
       "1      aligned_STRP.0423.00004.0001i_01903-STRP.0423....  34.636872   \n",
       "2      aligned_STRP.0423.00004.0001i_01903-STRP.0423....  30.075188   \n",
       "3      aligned_STRP.0423.00004.0001i_01903-STRP.0423....   4.800000   \n",
       "4      aligned_STRP.0423.00004.0001i_01903-STRP.0423....  35.195531   \n",
       "...                                                  ...        ...   \n",
       "94143  aligned_STRP.0423.00803.0001i_01145-STRP.0423....  30.232558   \n",
       "94144  aligned_STRP.0423.00803.0001i_01145-STRP.0423....  40.449438   \n",
       "94145  aligned_STRP.0423.00803.0001i_01145-STRP.0423....  70.491803   \n",
       "94146  aligned_STRP.0423.00803.0001i_01145-STRP.0423....  22.834646   \n",
       "94147  aligned_STRP.0423.00803.0001i_01145-STRP.0423....   0.000000   \n",
       "\n",
       "                2          3          4          5          6          7  \\\n",
       "0        0.000000   0.000000   0.800000   8.000000  11.200000   0.800000   \n",
       "1       22.905028  31.284916  25.698324  53.072626  42.458101  79.329609   \n",
       "2       24.812030  18.796992  33.082707  18.045113  78.947368  84.210526   \n",
       "3        1.600000   2.400000   5.600000   8.000000  10.400000   0.000000   \n",
       "4       22.905028  30.726257  25.698324  53.072626  42.458101  79.329609   \n",
       "...           ...        ...        ...        ...        ...        ...   \n",
       "94143   25.581395  19.379845  24.031008  19.379845  55.813953  58.139535   \n",
       "94144   20.786517  30.898876  25.842697  60.112360  37.640449  93.820225   \n",
       "94145  100.000000  73.770492  95.901639  68.852459  72.131148  77.868852   \n",
       "94146   10.236220   2.362205  22.834646  18.110236  56.692913  62.204724   \n",
       "94147    2.459016  13.934426   3.278689   0.000000   0.000000   0.000000   \n",
       "\n",
       "                8          9  ...          12          13         14  \\\n",
       "0        4.000000   2.400000  ...    1.600000    0.000000   0.800000   \n",
       "1       83.798883  83.798883  ...   75.418994   82.681564  87.150838   \n",
       "2       24.812030   3.759398  ...    1.503759    0.000000   0.751880   \n",
       "3        4.000000   2.400000  ...    0.800000    0.000000   0.000000   \n",
       "4       83.798883  83.798883  ...   75.418994   82.681564  87.150838   \n",
       "...           ...        ...  ...         ...         ...        ...   \n",
       "94143   25.581395   7.751938  ...   39.534884   32.558140  25.581395   \n",
       "94144   66.853933  68.539326  ...   73.595506   78.089888  76.404494   \n",
       "94145  100.000000  90.983607  ...  100.000000  100.000000  60.655738   \n",
       "94146   29.133858   8.661417  ...   37.795276   33.858268  23.622047   \n",
       "94147   20.491803   1.639344  ...    0.000000    0.000000   0.000000   \n",
       "\n",
       "              15          16         17          18         19         20  \\\n",
       "0       0.800000    0.000000   0.800000    0.800000   1.600000   0.000000   \n",
       "1      92.737430  100.000000  62.011173   79.888268  82.681564  63.128492   \n",
       "2       0.751880    0.000000  18.796992   75.939850  51.127820  35.338346   \n",
       "3       0.000000    0.000000   0.000000    0.800000   3.200000   0.000000   \n",
       "4      92.737430  100.000000  62.011173   79.888268  83.240223  63.128492   \n",
       "...          ...         ...        ...         ...        ...        ...   \n",
       "94143  36.434109   30.232558  34.883721   83.720930  44.961240  41.085271   \n",
       "94144  75.280899   82.022472  62.921348   88.202247  78.651685  90.449438   \n",
       "94145  75.409836   79.508197  91.803279  100.000000  86.065574  82.786885   \n",
       "94146  35.433071   30.708661  31.496063   85.826772  32.283465  36.220472   \n",
       "94147   0.819672    0.000000   0.819672    0.000000   0.000000   0.000000   \n",
       "\n",
       "              21  \n",
       "0       0.000000  \n",
       "1       2.234637  \n",
       "2      12.030075  \n",
       "3       0.000000  \n",
       "4       2.234637  \n",
       "...          ...  \n",
       "94143  10.852713  \n",
       "94144   0.561798  \n",
       "94145   5.737705  \n",
       "94146  14.960630  \n",
       "94147   0.000000  \n",
       "\n",
       "[94148 rows x 22 columns]"
      ]
     },
     "execution_count": 4,
     "metadata": {},
     "output_type": "execute_result"
    }
   ],
   "source": [
    "pneumonia"
   ]
  },
  {
   "cell_type": "code",
   "execution_count": 229,
   "metadata": {},
   "outputs": [
    {
     "data": {
      "image/png": "[encoded data removed]",
      "text/plain": [
       "<Figure size 640x480 with 1 Axes>"
      ]
     },
     "metadata": {},
     "output_type": "display_data"
    }
   ],
   "source": [
    "row = pneumonia.query(\"File == 'aligned_STRP.0423.00242.0001i_01233-STRP.0423.00473.0001i_01199.fasta.best.fas'\").dropna(axis=1)\n",
    "row_values = list(row.iloc[0, 1:])\n",
    "indexes = list(range(1, len(row_values) + 1))\n",
    "\n",
    "# Создаем график\n",
    "plt.plot(indexes, row_values, marker='o')\n",
    "plt.xticks(indexes);"
   ]
  },
  {
   "cell_type": "markdown",
   "metadata": {},
   "source": [
    "Поиск глобального максимума"
   ]
  },
  {
   "cell_type": "code",
   "execution_count": 220,
   "metadata": {},
   "outputs": [],
   "source": [
    "def find_global_maximum(y_values):\n",
    "    x_int = np.arange(1, len(y_values)+1)\n",
    "\n",
    "    # Интерполяция функции f(x)\n",
    "    interp_f = interp1d(x_int, y_values)\n",
    "    # Интерполяционная функция\n",
    "    def interpolated_f(x):\n",
    "        return interp_f(x)\n",
    "    # Определяем функцию потерь для минимизации\n",
    "    def loss(x):\n",
    "        return -interpolated_f(x)\n",
    "\n",
    "    result = differential_evolution(loss, [(1, len(y_values))])\n",
    "    return round(result.x.item()), round(-result.fun, 4)"
   ]
  },
  {
   "cell_type": "code",
   "execution_count": 227,
   "metadata": {},
   "outputs": [
    {
     "data": {
      "text/plain": [
       "(17, 100.0)"
      ]
     },
     "execution_count": 227,
     "metadata": {},
     "output_type": "execute_result"
    }
   ],
   "source": [
    "find_global_maximum(row_values)"
   ]
  },
  {
   "cell_type": "markdown",
   "metadata": {},
   "source": [
    "---\n",
    "инсс"
   ]
  },
  {
   "cell_type": "code",
   "execution_count": 196,
   "metadata": {},
   "outputs": [],
   "source": [
    "def extremum_singularity(values):\n",
    "    extremums = []\n",
    "    for i in range(50):\n",
    "        extremums.append(find_global_maximum(values)[0])\n",
    "\n",
    "    extr_lst = list(set(extremums))\n",
    "    count = 0\n",
    "    for j in range(1, len(extr_lst)):\n",
    "        if extr_lst[j-1] + 1 == extr_lst[j] or extr_lst[j-1] + 2 == extr_lst[j]:\n",
    "            count += 1\n",
    "    return count == (len(extr_lst)-1)"
   ]
  },
  {
   "cell_type": "markdown",
   "metadata": {},
   "source": [
    "Разница между `i` и `i+1` точками"
   ]
  },
  {
   "cell_type": "code",
   "execution_count": 197,
   "metadata": {},
   "outputs": [],
   "source": [
    "def count_differences(values:list) -> list:\n",
    "    diff = []\n",
    "    for i in range(1, len(values)):\n",
    "        diff.append(round(np.abs(values[i] - values[i-1]), 4))\n",
    "    return diff"
   ]
  },
  {
   "cell_type": "markdown",
   "metadata": {},
   "source": [
    "Проверка условия, что наибольшее расстояние лежит рядом с экстремумом"
   ]
  },
  {
   "cell_type": "code",
   "execution_count": 198,
   "metadata": {},
   "outputs": [],
   "source": [
    "def max_dist_near_extr(diff:list, extr:float) -> bool:\n",
    "    \n",
    "    max_diff = np.max(diff)\n",
    "    max_diff_index = diff.index(max_diff)+2\n",
    "\n",
    "    closeness = [extr-3, extr+3]\n",
    "    if closeness[0] < max_diff_index < closeness[1]:\n",
    "        return True\n",
    "    return False"
   ]
  },
  {
   "cell_type": "markdown",
   "metadata": {},
   "source": [
    "Проверка на то, что функция средних минимизируется или максимизируется"
   ]
  },
  {
   "cell_type": "code",
   "execution_count": 199,
   "metadata": {},
   "outputs": [],
   "source": [
    "def check_mean_dynamics(values:list, extr_idx:float) -> bool:\n",
    "\n",
    "    means = []\n",
    "    if extr_idx < (len(values) / 2):\n",
    "        means = [(np.mean(values[extr_idx:extr_idx+i]), np.std(values[extr_idx:extr_idx+i])) for i in range(2, len(values)-extr_idx+1)]\n",
    "    elif extr_idx > (len(values) / 2):\n",
    "        means = [(np.mean(values[:i]), np.std(values[:i])) for i in range(1, extr_idx+1)]\n",
    "\n",
    "    steps = []\n",
    "    if extr_idx < (len(values) / 2):\n",
    "        for j in range(len(means)):\n",
    "            mean_j = means[j][0]\n",
    "            std_j = means[j][1]\n",
    "            mean_j_1 = means[j-1][0]\n",
    "            std_j_1 = means[j-1][1]\n",
    "            if (mean_j_1 + std_j_1) >= (mean_j - std_j):\n",
    "                steps.append(1)\n",
    "\n",
    "    elif extr_idx >= (len(values) / 2):\n",
    "            for j in range(len(means)):\n",
    "                mean_j = means[j][0]\n",
    "                std_j = means[j][1]\n",
    "                mean_j_1 = means[j-1][0]\n",
    "                std_j_1 = means[j-1][1]\n",
    "                if (mean_j_1 - std_j_1) <= (mean_j + std_j):\n",
    "                    steps.append(1)\n",
    "            \n",
    "    return len(steps) == len(means), means\n"
   ]
  },
  {
   "cell_type": "code",
   "execution_count": 200,
   "metadata": {},
   "outputs": [],
   "source": [
    "def less_threshhold(values:list, threshhold:int, n:int) -> bool:\n",
    "    count = 0\n",
    "    for value in values:\n",
    "        if value < threshhold:\n",
    "            count += 1 \n",
    "    return count >= n"
   ]
  },
  {
   "cell_type": "code",
   "execution_count": 201,
   "metadata": {},
   "outputs": [],
   "source": [
    "def more_threshhold(values:list, threshhold:int, n:int) -> bool:\n",
    "    count = 0\n",
    "    for value in values:\n",
    "        if value > threshhold:\n",
    "            count += 1 \n",
    "    return count >= n"
   ]
  },
  {
   "cell_type": "code",
   "execution_count": 202,
   "metadata": {},
   "outputs": [],
   "source": [
    "def find_phase_variation(values:list) -> bool:\n",
    "\n",
    "    extr_x = find_global_maximum(values)[0]\n",
    "    differences = count_differences(values)\n",
    "    return extremum_singularity(values) and max_dist_near_extr(differences, extr_x) and less_threshhold(values, 20, 13) and more_threshhold(values, 70, 2)"
   ]
  },
  {
   "cell_type": "code",
   "execution_count": 38,
   "metadata": {},
   "outputs": [
    {
     "data": {
      "text/plain": [
       "<Figure size 640x480 with 0 Axes>"
      ]
     },
     "metadata": {},
     "output_type": "display_data"
    }
   ],
   "source": [
    "mismatch_imaging('Streptococcus_gordonii_mismatches.csv')"
   ]
  },
  {
   "cell_type": "code",
   "execution_count": 203,
   "metadata": {},
   "outputs": [
    {
     "name": "stderr",
     "output_type": "stream",
     "text": [
      "/var/folders/vm/z94y22391gs_rcqtvdnlcp240000gn/T/ipykernel_39801/2749608177.py:4: FutureWarning: Series.__getitem__ treating keys as positions is deprecated. In a future version, integer keys will always be treated as labels (consistent with DataFrame behavior). To access a value by position, use `ser.iloc[pos]`\n",
      "  diff.append(round(np.abs(values[i] - values[i-1]), 4))\n"
     ]
    },
    {
     "name": "stdout",
     "output_type": "stream",
     "text": [
      "(True, 7)\n",
      "(True, 43)\n",
      "(True, 60)\n",
      "(True, 81)\n",
      "(True, 85)\n",
      "(True, 101)\n",
      "(True, 110)\n",
      "(True, 128)\n",
      "(True, 144)\n",
      "(True, 147)\n",
      "(True, 158)\n",
      "(True, 160)\n",
      "(True, 174)\n",
      "(True, 200)\n"
     ]
    },
    {
     "name": "stderr",
     "output_type": "stream",
     "text": [
      "/var/folders/vm/z94y22391gs_rcqtvdnlcp240000gn/T/ipykernel_39801/2406291215.py:2: SettingWithCopyWarning: \n",
      "A value is trying to be set on a copy of a slice from a DataFrame.\n",
      "Try using .loc[row_indexer,col_indexer] = value instead\n",
      "\n",
      "See the caveats in the documentation: https://pandas.pydata.org/pandas-docs/stable/user_guide/indexing.html#returning-a-view-versus-a-copy\n",
      "  test_pneumonia['phase_variation'] = test_pneumonia.apply(lambda x: find_phase_variation(x[1:].dropna()), axis= 1)\n"
     ]
    }
   ],
   "source": [
    "test_pneumonia = pneumonia.iloc[:200, :]\n",
    "test_pneumonia['phase_variation'] = test_pneumonia.apply(lambda x: find_phase_variation(x[1:].dropna()), axis= 1)\n",
    "l = test_pneumonia.phase_variation.to_list()\n",
    "\n",
    "for i in range(len(l)):\n",
    "    if l[i]:\n",
    "        print((l[i], i+1))"
   ]
  },
  {
   "cell_type": "code",
   "execution_count": 218,
   "metadata": {},
   "outputs": [
    {
     "data": {
      "text/plain": [
       "'aligned_STRP.0423.00004.0001i_01903-STRP.0423.00365.0001i_01149.fasta.best.fas'"
      ]
     },
     "execution_count": 218,
     "metadata": {},
     "output_type": "execute_result"
    }
   ],
   "source": [
    "test_pneumonia.iloc[199, 0]"
   ]
  },
  {
   "cell_type": "code",
   "execution_count": 69,
   "metadata": {},
   "outputs": [
    {
     "name": "stderr",
     "output_type": "stream",
     "text": [
      "/var/folders/vm/z94y22391gs_rcqtvdnlcp240000gn/T/ipykernel_39801/2749608177.py:4: FutureWarning: Series.__getitem__ treating keys as positions is deprecated. In a future version, integer keys will always be treated as labels (consistent with DataFrame behavior). To access a value by position, use `ser.iloc[pos]`\n",
      "  diff.append(round(np.abs(values[i] - values[i-1]), 4))\n"
     ]
    }
   ],
   "source": [
    "gordonii['phase_variation'] = gordonii.apply(lambda x: find_phase_variation(x[1:].dropna()), axis= 1 )\n"
   ]
  },
  {
   "cell_type": "code",
   "execution_count": 49,
   "metadata": {},
   "outputs": [
    {
     "data": {
      "text/plain": [
       "<Figure size 640x480 with 0 Axes>"
      ]
     },
     "metadata": {},
     "output_type": "display_data"
    }
   ],
   "source": [
    "mismatch_imaging('Streptococcus_porcinus_mismatches.csv')"
   ]
  },
  {
   "cell_type": "code",
   "execution_count": 70,
   "metadata": {},
   "outputs": [
    {
     "name": "stderr",
     "output_type": "stream",
     "text": [
      "/var/folders/vm/z94y22391gs_rcqtvdnlcp240000gn/T/ipykernel_39801/2749608177.py:4: FutureWarning: Series.__getitem__ treating keys as positions is deprecated. In a future version, integer keys will always be treated as labels (consistent with DataFrame behavior). To access a value by position, use `ser.iloc[pos]`\n",
      "  diff.append(round(np.abs(values[i] - values[i-1]), 4))\n"
     ]
    }
   ],
   "source": [
    "porcinus['phase_variation'] = porcinus.apply(lambda x: find_phase_variation(x[1:].dropna()), axis= 1 )\n",
    "l = porcinus.phase_variation.to_list()\n",
    "\n",
    "for i in range(len(l)):\n",
    "    if l[i]:\n",
    "        print((l[i], i+1))"
   ]
  }
 ],
 "metadata": {
  "kernelspec": {
   "display_name": "phfa",
   "language": "python",
   "name": "python3"
  },
  "language_info": {
   "codemirror_mode": {
    "name": "ipython",
    "version": 3
   },
   "file_extension": ".py",
   "mimetype": "text/x-python",
   "name": "python",
   "nbconvert_exporter": "python",
   "pygments_lexer": "ipython3",
   "version": "3.12.1"
  }
 },
 "nbformat": 4,
 "nbformat_minor": 2
}
